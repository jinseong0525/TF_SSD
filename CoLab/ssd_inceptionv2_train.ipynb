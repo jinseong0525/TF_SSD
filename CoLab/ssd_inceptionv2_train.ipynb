{
  "nbformat": 4,
  "nbformat_minor": 0,
  "metadata": {
    "colab": {
      "name": "ssd_inceptionv2_train.ipynb",
      "private_outputs": true,
      "provenance": [],
      "collapsed_sections": []
    },
    "kernelspec": {
      "name": "python3",
      "display_name": "Python 3"
    },
    "accelerator": "GPU"
  },
  "cells": [
    {
      "cell_type": "code",
      "metadata": {
        "id": "JZYV4Q2uODrO"
      },
      "source": [
        "from google.colab import drive\r\n",
        "\r\n",
        "drive.mount('/content/gdrive')"
      ],
      "execution_count": null,
      "outputs": []
    },
    {
      "cell_type": "code",
      "metadata": {
        "id": "yvVFjKOkwktx"
      },
      "source": [
        "!nvidia-smi"
      ],
      "execution_count": null,
      "outputs": []
    },
    {
      "cell_type": "code",
      "metadata": {
        "id": "IzquljFGQQrM"
      },
      "source": [
        "!ls -al gdrive/MyDrive/colab_workspace/tfrecords.zip\r\n"
      ],
      "execution_count": null,
      "outputs": []
    },
    {
      "cell_type": "code",
      "metadata": {
        "id": "t3CoB-m5P05e"
      },
      "source": [
        "!cp gdrive/MyDrive/colab_workspace/tfrecords.zip ."
      ],
      "execution_count": null,
      "outputs": []
    },
    {
      "cell_type": "code",
      "metadata": {
        "id": "T4itbl4iLS11"
      },
      "source": [
        "!ls"
      ],
      "execution_count": null,
      "outputs": []
    },
    {
      "cell_type": "code",
      "metadata": {
        "id": "UiNU2vAwLWs9"
      },
      "source": [
        "!unzip tfrecords.zip"
      ],
      "execution_count": null,
      "outputs": []
    },
    {
      "cell_type": "code",
      "metadata": {
        "id": "I6w_renycwSX"
      },
      "source": [
        "pip uninstall tensorflow"
      ],
      "execution_count": null,
      "outputs": []
    },
    {
      "cell_type": "code",
      "metadata": {
        "id": "2UH5YM1gdCAG"
      },
      "source": [
        "pip uninstall tensorflow-gpu"
      ],
      "execution_count": null,
      "outputs": []
    },
    {
      "cell_type": "code",
      "metadata": {
        "id": "XK5JHwMLc7qW"
      },
      "source": [
        "pip uninstall keras"
      ],
      "execution_count": null,
      "outputs": []
    },
    {
      "cell_type": "code",
      "metadata": {
        "id": "pmr6JlSvLoqV"
      },
      "source": [
        "pip install setuptools==44.0.0 "
      ],
      "execution_count": null,
      "outputs": []
    },
    {
      "cell_type": "code",
      "metadata": {
        "id": "1mv5fmiI50v8"
      },
      "source": [
        "pip install tensorflow-gpu==1.14.0"
      ],
      "execution_count": null,
      "outputs": []
    },
    {
      "cell_type": "code",
      "metadata": {
        "id": "vpBDNDcXbxR4"
      },
      "source": [
        "pip install Cython contextlib2 matplotlib pillow lxml gast==0.2.2"
      ],
      "execution_count": null,
      "outputs": []
    },
    {
      "cell_type": "code",
      "metadata": {
        "id": "pKO4gvrCMDLe"
      },
      "source": [
        "mkdir tf_ssd"
      ],
      "execution_count": null,
      "outputs": []
    },
    {
      "cell_type": "code",
      "metadata": {
        "id": "roXz3xcvMJyF"
      },
      "source": [
        "cd tf_ssd"
      ],
      "execution_count": null,
      "outputs": []
    },
    {
      "cell_type": "code",
      "metadata": {
        "id": "pRCoWcliMO_M"
      },
      "source": [
        "!git clone https://github.com/tensorflow/models.git"
      ],
      "execution_count": null,
      "outputs": []
    },
    {
      "cell_type": "code",
      "metadata": {
        "id": "Qe0VwO9wMab9"
      },
      "source": [
        "ls"
      ],
      "execution_count": null,
      "outputs": []
    },
    {
      "cell_type": "code",
      "metadata": {
        "id": "8OW7rQFtM9eu"
      },
      "source": [
        "mv models train_models"
      ],
      "execution_count": null,
      "outputs": []
    },
    {
      "cell_type": "code",
      "metadata": {
        "id": "no3vMBaLSzTi"
      },
      "source": [
        "cd train_models"
      ],
      "execution_count": null,
      "outputs": []
    },
    {
      "cell_type": "code",
      "metadata": {
        "id": "bydmENN2S1pA"
      },
      "source": [
        "!git checkout 5ed215b2ae0fd9650d1650953afcffdd23bb28f6"
      ],
      "execution_count": null,
      "outputs": []
    },
    {
      "cell_type": "code",
      "metadata": {
        "id": "LXPvX5I_TPIS"
      },
      "source": [
        "cd /content/tf_ssd/train_models/research"
      ],
      "execution_count": null,
      "outputs": []
    },
    {
      "cell_type": "code",
      "metadata": {
        "id": "wxGHtQOvTbKJ"
      },
      "source": [
        "%env PYTHONPATH=$PYTHONPATH:/content/tf_ssd/train_models/research:/content/tf_ssd/train_models/research/slim"
      ],
      "execution_count": null,
      "outputs": []
    },
    {
      "cell_type": "code",
      "metadata": {
        "id": "DrILDqopZBQ-"
      },
      "source": [
        "!git clone https://github.com/cocodataset/cocoapi.git"
      ],
      "execution_count": null,
      "outputs": []
    },
    {
      "cell_type": "code",
      "metadata": {
        "id": "t6yO2ZVoZG6F"
      },
      "source": [
        "cd cocoapi/PythonAPI"
      ],
      "execution_count": null,
      "outputs": []
    },
    {
      "cell_type": "code",
      "metadata": {
        "id": "14CUuFGlZJW3"
      },
      "source": [
        "!make"
      ],
      "execution_count": null,
      "outputs": []
    },
    {
      "cell_type": "code",
      "metadata": {
        "id": "ZynE4J8ffEY5"
      },
      "source": [
        "!echo $PYTHONPATH"
      ],
      "execution_count": null,
      "outputs": []
    },
    {
      "cell_type": "code",
      "metadata": {
        "id": "bJauoBmfZOeF"
      },
      "source": [
        "cp -r pycocotools /content/tf_ssd/train_models/research/"
      ],
      "execution_count": null,
      "outputs": []
    },
    {
      "cell_type": "code",
      "metadata": {
        "id": "92FdhhHZZWl0"
      },
      "source": [
        "cd /content/tf_ssd/train_models/research/"
      ],
      "execution_count": null,
      "outputs": []
    },
    {
      "cell_type": "code",
      "metadata": {
        "id": "oVLmh0A4ZZZW"
      },
      "source": [
        "!curl -OL https://github.com/google/protobuf/releases/download/v3.2.0/protoc-3.2.0-linux-x86_64.zip"
      ],
      "execution_count": null,
      "outputs": []
    },
    {
      "cell_type": "code",
      "metadata": {
        "id": "9Dc4o6j5ZdlF"
      },
      "source": [
        "!unzip protoc-3.2.0-linux-x86_64.zip -d protoc3"
      ],
      "execution_count": null,
      "outputs": []
    },
    {
      "cell_type": "code",
      "metadata": {
        "id": "TQ4AsRdrZiI9"
      },
      "source": [
        "!sudo mv protoc3/bin/* /usr/local/bin/"
      ],
      "execution_count": null,
      "outputs": []
    },
    {
      "cell_type": "code",
      "metadata": {
        "id": "SMi6V6XDZkrt"
      },
      "source": [
        "!sudo mv protoc3/include/* /usr/local/include/"
      ],
      "execution_count": null,
      "outputs": []
    },
    {
      "cell_type": "code",
      "metadata": {
        "id": "k2-zHOH1ZpBt"
      },
      "source": [
        "!protoc object_detection/protos/*.proto --python_out=."
      ],
      "execution_count": null,
      "outputs": []
    },
    {
      "cell_type": "code",
      "metadata": {
        "id": "jrvLVv40ZsAm"
      },
      "source": [
        "!python object_detection/builders/model_builder_test.py"
      ],
      "execution_count": null,
      "outputs": []
    },
    {
      "cell_type": "code",
      "metadata": {
        "id": "4jA8aT-dbcK8"
      },
      "source": [
        "ls /content/tfrecords/"
      ],
      "execution_count": null,
      "outputs": []
    },
    {
      "cell_type": "code",
      "metadata": {
        "id": "vaetUtXsdocr"
      },
      "source": [
        "!mkdir /content/tf_ssd/save_models/"
      ],
      "execution_count": null,
      "outputs": []
    },
    {
      "cell_type": "code",
      "metadata": {
        "id": "BqRLjh7ed8gj"
      },
      "source": [
        "!mkdir /content/tf_ssd/save_models/coco_test"
      ],
      "execution_count": null,
      "outputs": []
    },
    {
      "cell_type": "code",
      "metadata": {
        "id": "wzzae-r92Ss_"
      },
      "source": [
        "mkdir /content/tf_ssd/save_models/pretrained"
      ],
      "execution_count": null,
      "outputs": []
    },
    {
      "cell_type": "code",
      "metadata": {
        "id": "3VVbbWEd2Y6N"
      },
      "source": [
        "cd /content/tf_ssd/save_models/pretrained"
      ],
      "execution_count": null,
      "outputs": []
    },
    {
      "cell_type": "code",
      "metadata": {
        "id": "Hgl6bU5HlMTh"
      },
      "source": [
        "ls /content/gdrive/MyDrive/colab_workspace/"
      ],
      "execution_count": null,
      "outputs": []
    },
    {
      "cell_type": "code",
      "metadata": {
        "id": "N0N2vnlMk0Np"
      },
      "source": [
        "!cp /content/gdrive/MyDrive/colab_workspace/tf_coco_ckpt.zip ."
      ],
      "execution_count": null,
      "outputs": []
    },
    {
      "cell_type": "code",
      "metadata": {
        "id": "qtDG_cBdmFZn"
      },
      "source": [
        "!ls"
      ],
      "execution_count": null,
      "outputs": []
    },
    {
      "cell_type": "code",
      "metadata": {
        "id": "-YtXtLtQl7ja"
      },
      "source": [
        "!unzip tf_coco_ckpt.zip "
      ],
      "execution_count": null,
      "outputs": []
    },
    {
      "cell_type": "code",
      "metadata": {
        "id": "Y6u3r9Ov2uz8"
      },
      "source": [
        "ls"
      ],
      "execution_count": null,
      "outputs": []
    },
    {
      "cell_type": "code",
      "metadata": {
        "id": "brSthGp-bavc"
      },
      "source": [
        "cd /content/tf_ssd/train_models/research/"
      ],
      "execution_count": null,
      "outputs": []
    },
    {
      "cell_type": "markdown",
      "metadata": {
        "id": "jnxXAPhhdhn1"
      },
      "source": [
        "Open this config file.\r\n",
        "/content/tf_ssd/tod/train_models/research/object_detection/samples/configs/ssd_inception_v2_coco.config\r\n",
        "\r\n",
        "and modify\r\n",
        "\r\n",
        "151 line :\r\n",
        "fine_tune_checkpoint: \"/content/tf_ssd/save_models/pretrained/model.ckpt-5000\"\r\n",
        "\r\n",
        "170 line:\r\n",
        "\r\n",
        "train_input_reader: {\r\n",
        "  tf_record_input_reader {\r\n",
        "    input_path: \"/content/tfrecords/coco_train.record-?????-of-00100\"\r\n",
        "  }\r\n",
        "  label_map_path: \"/content/tf_ssd/train_models/research/object_detection/data/mscoco_label_map.pbtxt\"\r\n",
        "}\r\n",
        "\r\n",
        "184 line\r\n",
        "eval_input_reader: {\r\n",
        "  tf_record_input_reader {\r\n",
        "    input_path: \"/content/tfrecords/coco_val.record-?????-of-00010\"\r\n",
        "  }\r\n",
        "  label_map_path: \"/content/tf_ssd/train_models/research/object_detection/data/mscoco_label_map.pbtxt\"\r\n",
        "  shuffle: false\r\n",
        "  num_readers: 1\r\n",
        "}"
      ]
    },
    {
      "cell_type": "code",
      "metadata": {
        "id": "afwTLwyYd_dD"
      },
      "source": [
        "PIPELINE_CONFIG_PATH='/content/tf_ssd/train_models/research/object_detection/samples/configs/ssd_inception_v2_coco.config'"
      ],
      "execution_count": null,
      "outputs": []
    },
    {
      "cell_type": "code",
      "metadata": {
        "id": "W1m_2p2feSnY"
      },
      "source": [
        " MODEL_DIR='/content/tf_ssd/save_models/coco_test'"
      ],
      "execution_count": null,
      "outputs": []
    },
    {
      "cell_type": "code",
      "metadata": {
        "id": "dB_PM9hjoieN"
      },
      "source": [
        "ls /content/tf_ssd/save_models/coco_test"
      ],
      "execution_count": null,
      "outputs": []
    },
    {
      "cell_type": "code",
      "metadata": {
        "id": "SaAJuJteeoNs"
      },
      "source": [
        "!echo $MODEL_DIR"
      ],
      "execution_count": null,
      "outputs": []
    },
    {
      "cell_type": "code",
      "metadata": {
        "id": "RVEQbQKcfPx1"
      },
      "source": [
        "!python object_detection/model_main.py --pipeline_config_path={PIPELINE_CONFIG_PATH} --model_dir={MODEL_DIR} --num_train_steps=500 --num_eval_steps=100  --sample_1_of_n_eval_examples=1 --num_clones=1 --ps_tasks=1"
      ],
      "execution_count": null,
      "outputs": []
    },
    {
      "cell_type": "code",
      "metadata": {
        "id": "Rdi-AFkNsY2h"
      },
      "source": [
        "ls /content/tf_ssd/save_models/coco_test/"
      ],
      "execution_count": null,
      "outputs": []
    },
    {
      "cell_type": "code",
      "metadata": {
        "id": "ukEgDrSauXjM"
      },
      "source": [
        "pwd"
      ],
      "execution_count": null,
      "outputs": []
    },
    {
      "cell_type": "code",
      "metadata": {
        "id": "ztCkG0K-pzO9"
      },
      "source": [
        "cd /content/tf_ssd/"
      ],
      "execution_count": null,
      "outputs": []
    },
    {
      "cell_type": "code",
      "metadata": {
        "id": "EmkINnyHo1Bw"
      },
      "source": [
        "!git clone https://github.com/tensorflow/models.git"
      ],
      "execution_count": null,
      "outputs": []
    },
    {
      "cell_type": "code",
      "metadata": {
        "id": "7Yf5OyHOuomG"
      },
      "source": [
        "mv models export_models"
      ],
      "execution_count": null,
      "outputs": []
    },
    {
      "cell_type": "code",
      "metadata": {
        "id": "g3uob8azuqn1"
      },
      "source": [
        "cd export_models"
      ],
      "execution_count": null,
      "outputs": []
    },
    {
      "cell_type": "code",
      "metadata": {
        "id": "T7l0t8_8uwLd"
      },
      "source": [
        "!git checkout ae0a9409212d0072938fa60c9f85740bb89ced7e"
      ],
      "execution_count": null,
      "outputs": []
    },
    {
      "cell_type": "code",
      "metadata": {
        "id": "_Osut_MQu2kI"
      },
      "source": [
        "cd research"
      ],
      "execution_count": null,
      "outputs": []
    },
    {
      "cell_type": "code",
      "metadata": {
        "id": "Lvx-7C78u9JV"
      },
      "source": [
        "%env PYTHONPATH=$PYTHONPATH:/content/tf_ssd/export_models/research:/content/tf_ssd/export_models/research/slim"
      ],
      "execution_count": null,
      "outputs": []
    },
    {
      "cell_type": "code",
      "metadata": {
        "id": "9XKNcHiWvtk0"
      },
      "source": [
        "!protoc object_detection/protos/*.proto --python_out=."
      ],
      "execution_count": null,
      "outputs": []
    },
    {
      "cell_type": "code",
      "metadata": {
        "id": "-UpuuUXuvxOz"
      },
      "source": [
        "!python object_detection/builders/model_builder_test.py"
      ],
      "execution_count": null,
      "outputs": []
    },
    {
      "cell_type": "code",
      "metadata": {
        "id": "JoNtWxeJv3K-"
      },
      "source": [
        "!cp /content/tf_ssd/train_models/research/object_detection/samples/configs/ssd_inception_v2_coco.config ./object_detection/samples/configs/"
      ],
      "execution_count": null,
      "outputs": []
    },
    {
      "cell_type": "markdown",
      "metadata": {
        "id": "GvlNWeDswBmF"
      },
      "source": [
        "./object_detection/samples/configs/ssd_inception_v2_coco.config\r\n",
        "\r\n",
        "line 101: override 부분 주석"
      ]
    },
    {
      "cell_type": "code",
      "metadata": {
        "id": "qZkHvo9Cv-e9"
      },
      "source": [
        "INPUT_TYPE='image_tensor'"
      ],
      "execution_count": null,
      "outputs": []
    },
    {
      "cell_type": "code",
      "metadata": {
        "id": "ZtYwxkHR20O3"
      },
      "source": [
        "mkdir /content/tf_ssd/pbfiles"
      ],
      "execution_count": null,
      "outputs": []
    },
    {
      "cell_type": "code",
      "metadata": {
        "id": "QfllKZiD3DFc"
      },
      "source": [
        "PIPELINE_CONFIG_PATH='/content/tf_ssd/export_models/research/object_detection/samples/configs/ssd_inception_v2_coco.config'"
      ],
      "execution_count": null,
      "outputs": []
    },
    {
      "cell_type": "code",
      "metadata": {
        "id": "XNvbPU8L4VAZ"
      },
      "source": [
        "ls /content/tf_ssd/export_models/research/object_detection/samples/configs/ssd_inception_v2_coco.config"
      ],
      "execution_count": null,
      "outputs": []
    },
    {
      "cell_type": "code",
      "metadata": {
        "id": "YZRgPRWr3MXF"
      },
      "source": [
        "TRAINED_CKPT_PREFIX='/content/tf_ssd/save_models/coco_test/model.ckpt-500'"
      ],
      "execution_count": null,
      "outputs": []
    },
    {
      "cell_type": "code",
      "metadata": {
        "id": "tmBHwarX3b8d"
      },
      "source": [
        "ls /content/tf_ssd/save_models/coco_test/"
      ],
      "execution_count": null,
      "outputs": []
    },
    {
      "cell_type": "code",
      "metadata": {
        "id": "g_SpMJ_s5-JW"
      },
      "source": [
        ""
      ],
      "execution_count": null,
      "outputs": []
    },
    {
      "cell_type": "code",
      "metadata": {
        "id": "xc5I_PPZ4BUu"
      },
      "source": [
        "EXPORT_DIR='/content/tf_ssd/pbfiles'"
      ],
      "execution_count": null,
      "outputs": []
    },
    {
      "cell_type": "code",
      "metadata": {
        "id": "R13JcUfE4Gel"
      },
      "source": [
        "!python object_detection/export_inference_graph.py --input_type={INPUT_TYPE} --pipeline_config_path={PIPELINE_CONFIG_PATH} --trained_checkpoint_prefix={TRAINED_CKPT_PREFIX} --output_directory={EXPORT_DIR}"
      ],
      "execution_count": null,
      "outputs": []
    },
    {
      "cell_type": "code",
      "metadata": {
        "id": "AFr8MJ2G5LLN"
      },
      "source": [
        "ls /content/tf_ssd/pbfiles/"
      ],
      "execution_count": null,
      "outputs": []
    }
  ]
}